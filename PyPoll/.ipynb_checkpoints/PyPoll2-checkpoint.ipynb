{
 "cells": [
  {
   "cell_type": "code",
   "execution_count": null,
   "metadata": {},
   "outputs": [],
   "source": [
    "import pandas as pd"
   ]
  },
  {
   "cell_type": "code",
   "execution_count": null,
   "metadata": {},
   "outputs": [],
   "source": [
    "# The greatest decrease in losses (date and amount) over the entire period\n",
    "# Greatest Decrease in Profits: Sep-2013 ($-2196167)\n",
    "df_path2 = \"election_data.csv\"\n",
    "df = pd.read_csv(df_path2, encoding=\"utf-8\")\n",
    "df.head()"
   ]
  },
  {
   "cell_type": "code",
   "execution_count": null,
   "metadata": {},
   "outputs": [],
   "source": [
    "# PyPoll \n",
    "# The total number of votes cast\n",
    "# Total Votes: 3521001\n",
    "total_votes = df.Candidate.value_counts()\n",
    "total_votes\n"
   ]
  },
  {
   "cell_type": "code",
   "execution_count": null,
   "metadata": {},
   "outputs": [],
   "source": [
    "# A complete list of candidates who received votes\n",
    "# The percentage of votes each candidate won\n",
    "# The total number of votes each candidate won\n",
    "# Khan: 63.000% (2218231)\n",
    "#  Correy: 20.000% (704200)\n",
    "#  Li: 14.000% (492940)\n",
    "#  O'Tooley: 3.000% (105630)\n",
    "vote_count = df.describe()\n",
    "\n"
   ]
  },
  {
   "cell_type": "code",
   "execution_count": null,
   "metadata": {},
   "outputs": [],
   "source": [
    "#The winner of the election based on popular vote.\n",
    "#  Winner: Khan\n",
    "vote_max = total_votes.max()\n",
    "candidate_max = total_votes.idxmax()\n",
    "print(str(candidate_max) + \" won election: \" + str(vote_max) + \" total votes\")"
   ]
  },
  {
   "cell_type": "code",
   "execution_count": null,
   "metadata": {},
   "outputs": [],
   "source": []
  },
  {
   "cell_type": "code",
   "execution_count": null,
   "metadata": {},
   "outputs": [],
   "source": []
  }
 ],
 "metadata": {
  "kernelspec": {
   "display_name": "Python 3",
   "language": "python",
   "name": "python3"
  },
  "language_info": {
   "codemirror_mode": {
    "name": "ipython",
    "version": 3
   },
   "file_extension": ".py",
   "mimetype": "text/x-python",
   "name": "python",
   "nbconvert_exporter": "python",
   "pygments_lexer": "ipython3",
   "version": "3.7.1"
  }
 },
 "nbformat": 4,
 "nbformat_minor": 2
}
