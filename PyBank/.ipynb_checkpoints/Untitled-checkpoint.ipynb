{
 "cells": [
  {
   "cell_type": "code",
   "execution_count": 31,
   "metadata": {},
   "outputs": [],
   "source": [
    "# modules\n",
    "import os\n",
    "import csv\n",
    "\n",
    "# set path for file\n",
    "# csvpath = os.path.join(\"budget_data.csv\")"
   ]
  },
  {
   "cell_type": "code",
   "execution_count": 35,
   "metadata": {},
   "outputs": [
    {
     "ename": "IndentationError",
     "evalue": "unexpected indent (<ipython-input-35-469f72724bb0>, line 15)",
     "output_type": "error",
     "traceback": [
      "\u001b[0;36m  File \u001b[0;32m\"<ipython-input-35-469f72724bb0>\"\u001b[0;36m, line \u001b[0;32m15\u001b[0m\n\u001b[0;31m    for line in csvreader:\u001b[0m\n\u001b[0m    ^\u001b[0m\n\u001b[0;31mIndentationError\u001b[0m\u001b[0;31m:\u001b[0m unexpected indent\n"
     ]
    }
   ],
   "source": [
    "with open('budget_data.csv', 'r') as csvfile:\n",
    "    csv_reader = csv.reader(csvfile, delimiter=\",\")\n",
    "    \n",
    "    with open('new_list.csv', 'w') as new_file:\n",
    "        csv_writer = csv.writer(new_file)\n",
    "        \n",
    "        for line in csv_reader:\n",
    "            csv_writer.writerow(line)\n",
    "    #loop over the first column names in list\n",
    "    #next(csvreader)\n",
    "    \n",
    "with open('budget_data.csv', 'r') as csvfile:\n",
    "    csv_reader = csv.reader(csvfile, delimiter=\",\")    \n",
    "        \n",
    "        for line in csv_reader:\n",
    "            print(line)\n",
    "    #read each line and loop over to next one\n",
    "        "
   ]
  },
  {
   "cell_type": "code",
   "execution_count": null,
   "metadata": {},
   "outputs": [],
   "source": []
  },
  {
   "cell_type": "code",
   "execution_count": null,
   "metadata": {},
   "outputs": [],
   "source": []
  }
 ],
 "metadata": {
  "kernelspec": {
   "display_name": "Python 3",
   "language": "python",
   "name": "python3"
  },
  "language_info": {
   "codemirror_mode": {
    "name": "ipython",
    "version": 3
   },
   "file_extension": ".py",
   "mimetype": "text/x-python",
   "name": "python",
   "nbconvert_exporter": "python",
   "pygments_lexer": "ipython3",
   "version": "3.7.1"
  }
 },
 "nbformat": 4,
 "nbformat_minor": 2
}
